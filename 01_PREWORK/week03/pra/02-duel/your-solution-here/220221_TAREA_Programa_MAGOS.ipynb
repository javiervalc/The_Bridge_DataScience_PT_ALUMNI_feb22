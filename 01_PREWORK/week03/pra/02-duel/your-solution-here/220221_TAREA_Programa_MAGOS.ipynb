{
 "cells": [
  {
   "cell_type": "code",
   "execution_count": null,
   "metadata": {},
   "outputs": [],
   "source": [
    "gandalf = [10, 11, 13, 30, 22, 11, 10, 33, 22, 22]\n",
    "saruman = [23, 66, 12, 43, 12, 10, 44, 23, 12, 17]\n",
    " \n",
    "ataques=len(gandalf)\n",
    "punt_gandalf=0\n",
    "punt_saruman=0\n",
    "for i in range(ataques):\n",
    "    if gandalf[i]>saruman[i]:\n",
    "        punt_gandalf+=1\n",
    "    else:\n",
    "        punt_saruman+=1\n",
    "if punt_saruman < punt_gandalf:\n",
    "    print(f\"El campeón del torneo es Gandalf con {punt_gandalf} puntos\")\n",
    "    print(f\"Saruman ha perdido con {punt_saruman} puntos\")\n",
    "else:\n",
    "    print(f\"El campeón del torneo es Saruman con {punt_saruman} puntos\")\n",
    "    print(f\"Gandalf ha perdido con {punt_gandalf} puntos\")"
   ]
  }
 ],
 "metadata": {
  "language_info": {
   "name": "python"
  },
  "orig_nbformat": 4
 },
 "nbformat": 4,
 "nbformat_minor": 2
}
