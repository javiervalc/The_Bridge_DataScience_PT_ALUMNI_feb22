{
 "cells": [
  {
   "cell_type": "code",
   "execution_count": 12,
   "metadata": {},
   "outputs": [
    {
     "name": "stdout",
     "output_type": "stream",
     "text": [
      "1. El bus tiene 9 paradas\n",
      "2. Los pasajeros por parada son\n",
      "Los pasajeros en cada paraada son [10, 13, 11, 10, 14, 10, 7, 5, 4]\n",
      "3. El maximo de pasajeros es 14 .\n",
      "4.1 La media de pasajeros es 9.333333333333334\n",
      "4.2 La desviación estandar es 3.197221015541813\n"
     ]
    }
   ],
   "source": [
    "import numpy as np\n",
    "stops = [(10, 0), (4, 1), (3, 5), (3, 4), (5, 1), (1, 5), (5, 8), (4, 6), (2, 3)]\n",
    " \n",
    " \n",
    "#1. Calcula el número de paradas.\n",
    " \n",
    "paradas=len(stops)\n",
    "print(f\"1. El bus tiene {paradas} paradas\")\n",
    " \n",
    "#2. Asigna a una variable una lista cuyos elementos sean el número de pasajeros en cada parada (in-out),\n",
    "x=0\n",
    "pasajeros=[]\n",
    "for i,j in stops:\n",
    "    x=x+i-j\n",
    "    pasajeros.append(x)\n",
    "print(\"2. Los pasajeros por parada son\")\n",
    "print(f\"Los pasajeros en cada paraada son {pasajeros}\")\n",
    "\n",
    "#3. Halla el máximo de ocupación del autobús.\n",
    "max_pasaj=max(pasajeros)\n",
    "print(f\"3. El maximo de pasajeros es {max_pasaj} .\")\n",
    " \n",
    "\n",
    " #4. Calcula la media de la ocupación. Y la desviación estandard.\n",
    "\n",
    "array_pasaj=np.array(pasajeros)\n",
    "media_pasajeros=np.mean(pasajeros)\n",
    "print(f\"4.1 La media de pasajeros es {media_pasajeros}\")\n",
    "des_pasajeros=np.std(pasajeros)\n",
    "print(f\"4.2 La desviación estandar es {des_pasajeros}\")"
   ]
  }
 ],
 "metadata": {
  "interpreter": {
   "hash": "445205104a770911ae53d4ff7a59ff70b3e90228acbd85cde7f2b8827f0b2456"
  },
  "kernelspec": {
   "display_name": "Python 3.9.5 ('the_bridge_22')",
   "language": "python",
   "name": "python3"
  },
  "language_info": {
   "codemirror_mode": {
    "name": "ipython",
    "version": 3
   },
   "file_extension": ".py",
   "mimetype": "text/x-python",
   "name": "python",
   "nbconvert_exporter": "python",
   "pygments_lexer": "ipython3",
   "version": "3.9.5"
  },
  "orig_nbformat": 4
 },
 "nbformat": 4,
 "nbformat_minor": 2
}
