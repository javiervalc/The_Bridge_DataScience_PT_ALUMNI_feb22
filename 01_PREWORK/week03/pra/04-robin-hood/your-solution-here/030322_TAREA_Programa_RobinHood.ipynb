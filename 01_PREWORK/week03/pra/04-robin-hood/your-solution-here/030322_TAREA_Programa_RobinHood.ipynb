{
 "cells": [
  {
   "cell_type": "code",
   "execution_count": 1,
   "metadata": {},
   "outputs": [],
   "source": [
    "puntos = [(4,5), (-0,2), (4,7), (1,-3), (3,-2), (4,5),\n",
    "          (3,2), (5,7), (-5,7), (2,2), (-4,5), (0,-2),\n",
    "          (-4,7), (-1,3), (-3,2), (-4,-5), (-3,2),\n",
    "          (5,7), (5,7), (2,2), (9, 9), (-8, -9)]"
   ]
  },
  {
   "cell_type": "markdown",
   "metadata": {},
   "source": [
    "### 1. Robin Hood es famoso por acertar a una flecha con otra flecha. ¿Lo ha conseguido?"
   ]
  },
  {
   "cell_type": "code",
   "execution_count": 2,
   "metadata": {},
   "outputs": [
    {
     "name": "stdout",
     "output_type": "stream",
     "text": [
      "Los valores repetidos son [(4, 5), (-3, 2), (5, 7), (2, 2)]\n"
     ]
    }
   ],
   "source": [
    "repetido = []\n",
    "unico = []\n",
    "for i in puntos:\n",
    "    if i not in unico:\n",
    "        unico.append(i)\n",
    "    else:\n",
    "        if i not in repetido:\n",
    "            repetido.append(i)\n",
    "print(f\"Los valores repetidos son {repetido}\")"
   ]
  },
  {
   "cell_type": "markdown",
   "metadata": {},
   "source": [
    "### 2. Calcula cuántos flechazos han caido en cada cuadrante.\n",
    " "
   ]
  },
  {
   "cell_type": "code",
   "execution_count": 3,
   "metadata": {},
   "outputs": [
    {
     "name": "stdout",
     "output_type": "stream",
     "text": [
      "La suma del primer cuadrante es 11\n",
      "La suma del segundo cuadrante es 6\n",
      "La suma del tercer cuadrante es 3\n",
      "La suma del cuarto cuadrante es 2\n"
     ]
    }
   ],
   "source": [
    "cuadrante_1 = [] #Los dos valores positivos\n",
    "cuadrante_2 = [] #Primer valor negativo, segundo positivo\n",
    "cuadrante_3 = [] #Los dos valores negativos\n",
    "cuadrante_4 = [] # Primer valor positivo, segundo negativo\n",
    "\n",
    " \n",
    "for x,y in puntos:\n",
    "    if x>=0 and y>0:\n",
    "        cuadrante_1.append(1)\n",
    "    elif x>0 and y<=0:\n",
    "        cuadrante_4.append(1)\n",
    "    elif x<=0 and y<0:\n",
    "        cuadrante_3.append(1)\n",
    "    elif x<0 and y>=0:\n",
    "        cuadrante_2.append(1)\n",
    "print(f\"La suma del primer cuadrante es {sum(cuadrante_1)}\")\n",
    "print(f\"La suma del segundo cuadrante es {sum(cuadrante_2)}\")\n",
    "print(f\"La suma del tercer cuadrante es {sum(cuadrante_3)}\")\n",
    "print(f\"La suma del cuarto cuadrante es {sum(cuadrante_4)}\")"
   ]
  },
  {
   "cell_type": "markdown",
   "metadata": {},
   "source": [
    "# \n",
    "Halla el punto más cercano al centro. Calcula su distancia al centro"
   ]
  }
 ],
 "metadata": {
  "interpreter": {
   "hash": "445205104a770911ae53d4ff7a59ff70b3e90228acbd85cde7f2b8827f0b2456"
  },
  "kernelspec": {
   "display_name": "Python 3.9.5 ('the_bridge_22')",
   "language": "python",
   "name": "python3"
  },
  "language_info": {
   "codemirror_mode": {
    "name": "ipython",
    "version": 3
   },
   "file_extension": ".py",
   "mimetype": "text/x-python",
   "name": "python",
   "nbconvert_exporter": "python",
   "pygments_lexer": "ipython3",
   "version": "3.9.5"
  },
  "orig_nbformat": 4
 },
 "nbformat": 4,
 "nbformat_minor": 2
}
