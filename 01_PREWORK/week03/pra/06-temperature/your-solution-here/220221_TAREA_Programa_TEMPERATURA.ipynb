{
 "cells": [
  {
   "cell_type": "code",
   "execution_count": null,
   "metadata": {},
   "outputs": [],
   "source": [
    "emperaturas_C = [33,66,65,0,59,60,62,64,70,76,80,69,80,83,68,79,61,53,50,49,53,48,45,39]\n",
    " \n",
    "#IMPRIMIR TEMPERATURA MÍNIMA (EN Cº)\n",
    "print(f\"1.  Temperatura mínima es {min(temperaturas_C)}\")\n",
    "#IMPRIMIR TEMPERATURA MÁXIMA (EN Cº)\n",
    "print(f\"2.  Temperatura máxima es {max(temperaturas_C)}\")\n",
    " \n",
    "#Temperaturas iguales o superiores a 70\n",
    "t_70C=70\n",
    "temperatura_mas_70_C=[]\n",
    "for temp in temperaturas_C:\n",
    "    if temp >= t_70C:\n",
    "        temperatura_mas_70_C.append(temp) # Lista en la que meto temperaturas mayores de 70C\n",
    "print(f\"3.  Temperatura superiores a 70ºC son {temperatura_mas_70_C}\")\n",
    " \n",
    "#Temperatura media\n",
    "media=sum(temperaturas_C)/len(temperaturas_C)\n",
    "print(f\"4.  La temperatura media en Cº es {media}\")\n",
    " \n",
    "#Buscar temperatura con valor 0\n",
    "valor_0=temperaturas_C.index(0)\n",
    "print(f\"5.  La posición vacía es: {valor_0}\")\n",
    "temperaturas_C_OK=temperaturas_C\n",
    "temperaturas_C_OK[valor_0]=((temperaturas_C_OK[valor_0+1])+(temperaturas_C_OK[valor_0-1]))/2\n",
    "print(f\"5.1 Interpolando los valores nulos tenemos: {temperaturas_C_OK}\")\n",
    " \n",
    "temperaturas_F1 = []\n",
    "temperaturas_F2 = []\n",
    " \n",
    "for i in temperaturas_C_OK:\n",
    "    temperaturas_F1.append(i*1.8)\n",
    "for j in temperaturas_F1:\n",
    "    temperaturas_F2.append(j+32)\n",
    "print(f\"6.  Temperatura en grados Fº: {temperaturas_F2}\")"
   ]
  }
 ],
 "metadata": {
  "language_info": {
   "name": "python"
  },
  "orig_nbformat": 4
 },
 "nbformat": 4,
 "nbformat_minor": 2
}
